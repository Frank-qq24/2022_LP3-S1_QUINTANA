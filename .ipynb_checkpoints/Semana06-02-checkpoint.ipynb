{
 "cells": [
  {
   "cell_type": "markdown",
   "id": "91693237",
   "metadata": {},
   "source": [
    "# Semana 06\n",
    "Quintana Quispe Frank\n",
    "\n",
    "    1. Colecciones de Datos\n",
    "    2. Estrcutura decisivas y repetitivas"
   ]
  },
  {
   "cell_type": "code",
   "execution_count": 1,
   "id": "6e28e2af",
   "metadata": {},
   "outputs": [
    {
     "name": "stdout",
     "output_type": "stream",
     "text": [
      "Profucto 01:asdsa\n"
     ]
    },
    {
     "ename": "ValueError",
     "evalue": "could not convert string to float: 'asdsa'",
     "output_type": "error",
     "traceback": [
      "\u001b[1;31m---------------------------------------------------------------------------\u001b[0m",
      "\u001b[1;31mValueError\u001b[0m                                Traceback (most recent call last)",
      "\u001b[1;32m~\\AppData\\Local\\Temp/ipykernel_15208/1941311463.py\u001b[0m in \u001b[0;36m<module>\u001b[1;34m\u001b[0m\n\u001b[0;32m      1\u001b[0m \u001b[1;31m# estructuras decisivas (if, else, )\u001b[0m\u001b[1;33m\u001b[0m\u001b[1;33m\u001b[0m\u001b[0m\n\u001b[1;32m----> 2\u001b[1;33m \u001b[0mp1\u001b[0m \u001b[1;33m=\u001b[0m  \u001b[0mfloat\u001b[0m\u001b[1;33m(\u001b[0m\u001b[0minput\u001b[0m\u001b[1;33m(\u001b[0m\u001b[1;34m\"Profucto 01:\"\u001b[0m\u001b[1;33m)\u001b[0m\u001b[1;33m)\u001b[0m\u001b[1;33m\u001b[0m\u001b[1;33m\u001b[0m\u001b[0m\n\u001b[0m\u001b[0;32m      3\u001b[0m \u001b[0mp2\u001b[0m \u001b[1;33m=\u001b[0m  \u001b[0mfloat\u001b[0m\u001b[1;33m(\u001b[0m\u001b[0minput\u001b[0m\u001b[1;33m(\u001b[0m\u001b[1;34m\"Profucto 02:\"\u001b[0m\u001b[1;33m)\u001b[0m\u001b[1;33m)\u001b[0m\u001b[1;33m\u001b[0m\u001b[1;33m\u001b[0m\u001b[0m\n\u001b[0;32m      4\u001b[0m \u001b[0mp3\u001b[0m \u001b[1;33m=\u001b[0m  \u001b[0mfloat\u001b[0m\u001b[1;33m(\u001b[0m\u001b[0minput\u001b[0m\u001b[1;33m(\u001b[0m\u001b[1;34m\"Profucto 03:\"\u001b[0m\u001b[1;33m)\u001b[0m\u001b[1;33m)\u001b[0m\u001b[1;33m\u001b[0m\u001b[1;33m\u001b[0m\u001b[0m\n",
      "\u001b[1;31mValueError\u001b[0m: could not convert string to float: 'asdsa'"
     ]
    }
   ],
   "source": [
    "# estructuras decisivas (if, else, )\n",
    "p1 =  float(input(\"Profucto 01:\"))\n",
    "p2 =  float(input(\"Profucto 02:\"))\n",
    "p3 =  float(input(\"Profucto 03:\"))"
   ]
  },
  {
   "cell_type": "code",
   "execution_count": null,
   "id": "8d6c9a83",
   "metadata": {},
   "outputs": [],
   "source": []
  },
  {
   "cell_type": "code",
   "execution_count": null,
   "id": "12662e77",
   "metadata": {},
   "outputs": [],
   "source": []
  }
 ],
 "metadata": {
  "kernelspec": {
   "display_name": "Python 3 (ipykernel)",
   "language": "python",
   "name": "python3"
  },
  "language_info": {
   "codemirror_mode": {
    "name": "ipython",
    "version": 3
   },
   "file_extension": ".py",
   "mimetype": "text/x-python",
   "name": "python",
   "nbconvert_exporter": "python",
   "pygments_lexer": "ipython3",
   "version": "3.9.7"
  }
 },
 "nbformat": 4,
 "nbformat_minor": 5
}
