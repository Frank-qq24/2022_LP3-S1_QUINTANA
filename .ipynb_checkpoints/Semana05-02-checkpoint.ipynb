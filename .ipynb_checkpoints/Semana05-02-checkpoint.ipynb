{
 "cells": [
  {
   "cell_type": "markdown",
   "id": "98ceb572",
   "metadata": {},
   "source": [
    "# 2. Semana 05\n",
    "Frank Quintana Quispe\n",
    "\n",
    "Temas:"
   ]
  },
  {
   "cell_type": "markdown",
   "id": "cc297241",
   "metadata": {},
   "source": [
    "1. numeros\n",
    "2. variables\n",
    "3. Manejo de candenas\n",
    "4. Ingreso de datos por teclado\n",
    "5. Operaciones"
   ]
  },
  {
   "cell_type": "markdown",
   "id": "e8ae5521",
   "metadata": {},
   "source": [
    "---------------------\n",
    "2. Variables"
   ]
  },
  {
   "cell_type": "code",
   "execution_count": 2,
   "id": "c19b4029",
   "metadata": {},
   "outputs": [],
   "source": [
    "#Siempre deben de iniciar con una letra o un guion abajo.(nunca con un numero u otro signo)"
   ]
  },
  {
   "cell_type": "code",
   "execution_count": 3,
   "id": "bf58bc26",
   "metadata": {},
   "outputs": [
    {
     "data": {
      "text/plain": [
       "41"
      ]
     },
     "execution_count": 3,
     "metadata": {},
     "output_type": "execute_result"
    }
   ],
   "source": [
    "edad=41\n",
    "edad"
   ]
  },
  {
   "cell_type": "code",
   "execution_count": 11,
   "id": "453e454d",
   "metadata": {},
   "outputs": [
    {
     "data": {
      "text/plain": [
       "'Frank'"
      ]
     },
     "execution_count": 11,
     "metadata": {},
     "output_type": "execute_result"
    }
   ],
   "source": [
    "nombre = \"Frank\"\n",
    "nombre"
   ]
  },
  {
   "cell_type": "code",
   "execution_count": 6,
   "id": "f0886015",
   "metadata": {},
   "outputs": [
    {
     "data": {
      "text/plain": [
       "'Quintana Quispe'"
      ]
     },
     "execution_count": 6,
     "metadata": {},
     "output_type": "execute_result"
    }
   ],
   "source": [
    "apellido = \"Quintana Quispe\"\n",
    "apellido"
   ]
  },
  {
   "cell_type": "code",
   "execution_count": 12,
   "id": "e42b795e",
   "metadata": {},
   "outputs": [
    {
     "data": {
      "text/plain": [
       "'FrankQuintana Quispe'"
      ]
     },
     "execution_count": 12,
     "metadata": {},
     "output_type": "execute_result"
    }
   ],
   "source": [
    "nombrecompleto = nombre + apellido\n",
    "nombrecompleto"
   ]
  },
  {
   "cell_type": "code",
   "execution_count": 13,
   "id": "d2c93399",
   "metadata": {},
   "outputs": [
    {
     "data": {
      "text/plain": [
       "'Frank Quintana Quispe'"
      ]
     },
     "execution_count": 13,
     "metadata": {},
     "output_type": "execute_result"
    }
   ],
   "source": [
    "nombrecompleto = nombre+\" \"+apellido\n",
    "nombrecompleto"
   ]
  },
  {
   "cell_type": "code",
   "execution_count": null,
   "id": "b8ee9f21",
   "metadata": {},
   "outputs": [],
   "source": []
  }
 ],
 "metadata": {
  "kernelspec": {
   "display_name": "Python 3 (ipykernel)",
   "language": "python",
   "name": "python3"
  },
  "language_info": {
   "codemirror_mode": {
    "name": "ipython",
    "version": 3
   },
   "file_extension": ".py",
   "mimetype": "text/x-python",
   "name": "python",
   "nbconvert_exporter": "python",
   "pygments_lexer": "ipython3",
   "version": "3.9.7"
  }
 },
 "nbformat": 4,
 "nbformat_minor": 5
}
