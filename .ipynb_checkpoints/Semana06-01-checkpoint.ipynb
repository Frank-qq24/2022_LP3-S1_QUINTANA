{
 "cells": [
  {
   "cell_type": "markdown",
   "id": "3ef70734",
   "metadata": {},
   "source": [
    "# Semana 06\n",
    "Quintana Quispe Frank\n",
    "\n",
    "    1. Colecciones de Datos"
   ]
  },
  {
   "cell_type": "code",
   "execution_count": 1,
   "id": "90a13efc",
   "metadata": {},
   "outputs": [],
   "source": [
    "#1.1. Listas\n",
    "# Es una coleccion de elementos que pueden ser ordenados, modificados, etc ..\n",
    "# se identifican por los corchetes\n",
    "aula =['yauricasa', 'granados', 'alva','laura']"
   ]
  },
  {
   "cell_type": "code",
   "execution_count": 2,
   "id": "e1665a24",
   "metadata": {},
   "outputs": [
    {
     "data": {
      "text/plain": [
       "['yauricasa', 'granados', 'alva', 'laura']"
      ]
     },
     "execution_count": 2,
     "metadata": {},
     "output_type": "execute_result"
    }
   ],
   "source": [
    "aula"
   ]
  },
  {
   "cell_type": "code",
   "execution_count": 3,
   "id": "ea36a135",
   "metadata": {},
   "outputs": [
    {
     "name": "stdout",
     "output_type": "stream",
     "text": [
      "yauricasa\n"
     ]
    }
   ],
   "source": [
    "print(aula[0])"
   ]
  },
  {
   "cell_type": "code",
   "execution_count": 4,
   "id": "2fe8153e",
   "metadata": {},
   "outputs": [
    {
     "data": {
      "text/plain": [
       "'chavez'"
      ]
     },
     "execution_count": 4,
     "metadata": {},
     "output_type": "execute_result"
    }
   ],
   "source": [
    "#puedo asignar una posicion de la lista\n",
    "aula[1] = 'chavez'\n",
    "aula[1]"
   ]
  },
  {
   "cell_type": "code",
   "execution_count": 5,
   "id": "b941834c",
   "metadata": {},
   "outputs": [
    {
     "data": {
      "text/plain": [
       "['yauricasa', 'chavez', 'alva', 'laura']"
      ]
     },
     "execution_count": 5,
     "metadata": {},
     "output_type": "execute_result"
    }
   ],
   "source": [
    "aula"
   ]
  },
  {
   "cell_type": "code",
   "execution_count": 6,
   "id": "b77fc4af",
   "metadata": {},
   "outputs": [],
   "source": [
    "#Para agregar un elemento = append\n",
    "aula.append(\"huaman\")\n",
    "aula.append('huancas')\n"
   ]
  },
  {
   "cell_type": "code",
   "execution_count": 15,
   "id": "a3a612bc",
   "metadata": {},
   "outputs": [
    {
     "data": {
      "text/plain": [
       "['chavez', 'alva', 'laura', 'huaman', 'huancas']"
      ]
     },
     "execution_count": 15,
     "metadata": {},
     "output_type": "execute_result"
    }
   ],
   "source": [
    "aula"
   ]
  },
  {
   "cell_type": "code",
   "execution_count": 16,
   "id": "af1d6bfd",
   "metadata": {},
   "outputs": [
    {
     "data": {
      "text/plain": [
       "['chavez', 'laura', 'huaman', 'huancas']"
      ]
     },
     "execution_count": 16,
     "metadata": {},
     "output_type": "execute_result"
    }
   ],
   "source": [
    "#para eliminar = remove[]\n",
    "aula.remove(\"alva\")\n",
    "aula"
   ]
  },
  {
   "cell_type": "code",
   "execution_count": 18,
   "id": "bad6558c",
   "metadata": {},
   "outputs": [
    {
     "data": {
      "text/plain": [
       "['laura', 'huaman', 'huancas']"
      ]
     },
     "execution_count": 18,
     "metadata": {},
     "output_type": "execute_result"
    }
   ],
   "source": [
    "#aula.remove(aula[x]), x es un indice\n",
    "aula.remove(aula[0])\n",
    "aula"
   ]
  },
  {
   "cell_type": "code",
   "execution_count": null,
   "id": "6b36336c",
   "metadata": {},
   "outputs": [],
   "source": []
  }
 ],
 "metadata": {
  "kernelspec": {
   "display_name": "Python 3 (ipykernel)",
   "language": "python",
   "name": "python3"
  },
  "language_info": {
   "codemirror_mode": {
    "name": "ipython",
    "version": 3
   },
   "file_extension": ".py",
   "mimetype": "text/x-python",
   "name": "python",
   "nbconvert_exporter": "python",
   "pygments_lexer": "ipython3",
   "version": "3.9.7"
  }
 },
 "nbformat": 4,
 "nbformat_minor": 5
}
