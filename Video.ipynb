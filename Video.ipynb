{
 "cells": [
  {
   "cell_type": "code",
   "execution_count": 1,
   "id": "bea7a754",
   "metadata": {},
   "outputs": [],
   "source": [
    "#5.6 operadores de identidad \n",
    "# se tiene: is, is not"
   ]
  },
  {
   "cell_type": "code",
   "execution_count": 9,
   "id": "6fb38d8b",
   "metadata": {},
   "outputs": [],
   "source": [
    "comedor1= [\"tallarines\", \"arroz con pato\",\"patita con mani\"]\n",
    "comedor2= [\"tallarines\", \"arroz con pato\",\"patita con mani\"]\n",
    "\n",
    "comedor3 = comedor1"
   ]
  },
  {
   "cell_type": "code",
   "execution_count": 13,
   "id": "439cf71e",
   "metadata": {},
   "outputs": [
    {
     "data": {
      "text/plain": [
       "True"
      ]
     },
     "execution_count": 13,
     "metadata": {},
     "output_type": "execute_result"
    }
   ],
   "source": [
    "comedor3 is comedor1"
   ]
  },
  {
   "cell_type": "code",
   "execution_count": 11,
   "id": "79fdfa46",
   "metadata": {},
   "outputs": [
    {
     "data": {
      "text/plain": [
       "False"
      ]
     },
     "execution_count": 11,
     "metadata": {},
     "output_type": "execute_result"
    }
   ],
   "source": [
    "comedor3 is comedor2"
   ]
  },
  {
   "cell_type": "code",
   "execution_count": null,
   "id": "e2f59307",
   "metadata": {},
   "outputs": [],
   "source": []
  }
 ],
 "metadata": {
  "kernelspec": {
   "display_name": "Python 3 (ipykernel)",
   "language": "python",
   "name": "python3"
  },
  "language_info": {
   "codemirror_mode": {
    "name": "ipython",
    "version": 3
   },
   "file_extension": ".py",
   "mimetype": "text/x-python",
   "name": "python",
   "nbconvert_exporter": "python",
   "pygments_lexer": "ipython3",
   "version": "3.9.7"
  }
 },
 "nbformat": 4,
 "nbformat_minor": 5
}
